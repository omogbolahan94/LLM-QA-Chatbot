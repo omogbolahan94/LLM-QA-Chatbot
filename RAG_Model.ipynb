{
 "cells": [
  {
   "cell_type": "code",
   "execution_count": 42,
   "id": "5d343855-30b2-49e3-9ce2-bf3478e70c72",
   "metadata": {},
   "outputs": [],
   "source": [
    "import numpy as np\n",
    "import pandas as pd\n",
    "\n"
   ]
  },
  {
   "cell_type": "code",
   "execution_count": 43,
   "id": "8e0f09f6-b5bb-4705-a9f5-85a189cc833b",
   "metadata": {},
   "outputs": [],
   "source": [
    "import matplotlib.pyplot as plt\n",
    "import seaborn as sns"
   ]
  },
  {
   "cell_type": "markdown",
   "id": "837bdf2d-c6a6-455c-93ca-5abd339afda6",
   "metadata": {},
   "source": [
    "## Load JSON File"
   ]
  },
  {
   "cell_type": "code",
   "execution_count": 4,
   "id": "daf22233-2b55-44b1-bb03-3e76066daed0",
   "metadata": {},
   "outputs": [],
   "source": [
    "# download the json data here: but we already have it in the same directory as this notebook\n",
    "# wget https://github.com/alexeygrigorev/llm-rag-workshop/raw/main/notebooks/documents.json"
   ]
  },
  {
   "cell_type": "code",
   "execution_count": 44,
   "id": "648e7c68-4721-4726-b09c-3eb2f21a5c0e",
   "metadata": {},
   "outputs": [],
   "source": [
    "import json\n",
    "\n",
    "with open('./documents.json', 'rt') as f_in:\n",
    "    documents_file = json.load(f_in)\n",
    "\n",
    "documents = []\n",
    "\n",
    "for course in documents_file:\n",
    "    course_name = course['course']\n",
    "\n",
    "    for doc in course['documents']:\n",
    "        doc['course'] = course_name\n",
    "        documents.append(doc)"
   ]
  },
  {
   "cell_type": "code",
   "execution_count": 45,
   "id": "9ce5999b-7c89-4f85-aab7-c7f17d669295",
   "metadata": {},
   "outputs": [
    {
     "name": "stdout",
     "output_type": "stream",
     "text": [
      "[\n",
      "  {\n",
      "    \"course\": \"data-engineering-zoomcamp\",\n",
      "    \"documents\": [\n",
      "      {\n",
      "        \"text\": \"The purpose of this document is to capture frequently asked technical questions\\nThe exact day and hour of the course will be 15th Jan 2024 at 17h00. The course will start with the first  \\u201cOffice Hours'' live.1\\nSubscribe to course public Google Calendar (it works from Desktop only).\\nRegister before the course starts using this link.\\nJoin the course Telegram channel with announcements.\\nDon\\u2019t forget to register in DataTalks.Club's Slack and join the channel.\",\n",
      "        \"section\": \"General course-related questions\",\n",
      "        \"question\": \"Course - When will the course start?\"\n",
      "      },\n",
      "      {\n"
     ]
    }
   ],
   "source": [
    "!head documents.json"
   ]
  },
  {
   "cell_type": "code",
   "execution_count": 46,
   "id": "345df528-52d0-42ee-9972-5fc7c8934fa3",
   "metadata": {},
   "outputs": [
    {
     "data": {
      "text/plain": [
       "{'text': 'GitHub - DataTalksClub data-engineering-zoomcamp#prerequisites',\n",
       " 'section': 'General course-related questions',\n",
       " 'question': 'Course - What are the prerequisites for this course?',\n",
       " 'course': 'data-engineering-zoomcamp'}"
      ]
     },
     "execution_count": 46,
     "metadata": {},
     "output_type": "execute_result"
    }
   ],
   "source": [
    "documents[1]"
   ]
  },
  {
   "cell_type": "markdown",
   "id": "4d482d88-4214-43e1-86d4-45e8696308d0",
   "metadata": {},
   "source": [
    "## R - RETRIEVAL\n",
    "\n",
    "R - \"retrieval\", is one of the components of RAG. For retrieval, we need a search system. In our example, we will use `elasticsearch` for searching."
   ]
  },
  {
   "cell_type": "code",
   "execution_count": 47,
   "id": "66dd1523-581f-457d-a115-ae3883978030",
   "metadata": {},
   "outputs": [
    {
     "data": {
      "text/plain": [
       "ObjectApiResponse({'name': '7981acfa981a', 'cluster_name': 'docker-cluster', 'cluster_uuid': '0OYZGaylT26xAwW9Fv50AQ', 'version': {'number': '8.4.3', 'build_flavor': 'default', 'build_type': 'docker', 'build_hash': '42f05b9372a9a4a470db3b52817899b99a76ee73', 'build_date': '2022-10-04T07:17:24.662462378Z', 'build_snapshot': False, 'lucene_version': '9.3.0', 'minimum_wire_compatibility_version': '7.17.0', 'minimum_index_compatibility_version': '7.0.0'}, 'tagline': 'You Know, for Search'})"
      ]
     },
     "execution_count": 47,
     "metadata": {},
     "output_type": "execute_result"
    }
   ],
   "source": [
    "from elasticsearch import Elasticsearch\n",
    "\n",
    "es = Elasticsearch(\"http://localhost:9200\")\n",
    "\n",
    "# You should see the same response as earlier with curl.\n",
    "es.info()"
   ]
  },
  {
   "cell_type": "markdown",
   "id": "49648556-d572-4199-aa55-7ebb6d46b2b1",
   "metadata": {},
   "source": [
    "### Indexing Document\n",
    "\n",
    "Using the keys from each dictionaries in documents objects. \n",
    "\n",
    "Before we can index the documents (one time document), we need to create an index (an index in `elasticsearch` is like a table in a \"usual\" databases):"
   ]
  },
  {
   "cell_type": "code",
   "execution_count": 11,
   "id": "d5e2fdef-0815-4a5c-93be-04979833672a",
   "metadata": {},
   "outputs": [],
   "source": [
    "index_settings = {\n",
    "    \"settings\": {\n",
    "        \"number_of_shards\": 1,\n",
    "        \"number_of_replicas\": 0\n",
    "    },\n",
    "    \"mappings\": {\n",
    "        \"properties\": {\n",
    "            \"text\": {\"type\": \"text\"},\n",
    "            \"section\": {\"type\": \"text\"},\n",
    "            \"question\": {\"type\": \"text\"},\n",
    "            \"course\": {\"type\": \"keyword\"} # keyword is to restrict our search to the course we want ot retrieve from.\n",
    "        }\n",
    "    }\n",
    "}\n",
    "\n",
    "index_name = \"course-questions\"\n",
    "\n",
    "response = es.indices.create(index=index_name, body=index_settings)\n",
    "\n",
    "response"
   ]
  },
  {
   "cell_type": "markdown",
   "id": "eddf775f-ee11-45be-8e26-28a347ae798f",
   "metadata": {},
   "source": [
    "### Import all the document into `elasticsearch`"
   ]
  },
  {
   "cell_type": "code",
   "execution_count": 48,
   "id": "ad4afeab-7548-4b46-820d-bfb0eb46c400",
   "metadata": {},
   "outputs": [
    {
     "data": {
      "application/vnd.jupyter.widget-view+json": {
       "model_id": "47e7151d6b4e452192bdf2c96eb73869",
       "version_major": 2,
       "version_minor": 0
      },
      "text/plain": [
       "  0%|          | 0/948 [00:00<?, ?it/s]"
      ]
     },
     "metadata": {},
     "output_type": "display_data"
    }
   ],
   "source": [
    "from tqdm.auto import tqdm\n",
    "\n",
    "for doc in tqdm(documents):\n",
    "    es.index(index=index_name, document=doc)"
   ]
  },
  {
   "cell_type": "markdown",
   "id": "869d2019-2c58-4a3e-9b87-aee05bc8d23e",
   "metadata": {},
   "source": [
    "Consider the example below to understand how `elasticsearch` works. From the user query example below, elasticsearch will look for the key words: join, course, after and started and then return documents related to this words:"
   ]
  },
  {
   "cell_type": "code",
   "execution_count": 49,
   "id": "e9c4a9dc-20d2-4081-a391-0f81a1a996e1",
   "metadata": {},
   "outputs": [],
   "source": [
    "user_query = \"How do I join the course after it has started?\""
   ]
  },
  {
   "cell_type": "markdown",
   "id": "7e961a97-6cf9-4560-9787-907947739b1c",
   "metadata": {},
   "source": [
    "The limitation is when we have the word 'program' in place of 'course', it won't be able to identify the difference between program and course. \n",
    "\n",
    "We can turn this query into a vector and then use `Word2Vec` to add semantic to it.\n",
    "\n",
    "For now, I will query `elasticsearch`:"
   ]
  },
  {
   "cell_type": "markdown",
   "id": "9ac8516c-58a8-43b5-9719-157d76dd4131",
   "metadata": {},
   "source": [
    "This query:\n",
    "\n",
    "* Retrieves top 5 matching documents by default.\n",
    "* Searches in the \"question\", \"text\", \"section\" fields, prioritizing \"question\" using multi_match query with type best_fields (see here for more information)\n",
    "* Matches user query \"How do I join the course after it has started?\".\n",
    "* Shows results only for the \"data-engineering-zoomcamp\" course.\n",
    "\n",
    "Let's see the output:"
   ]
  },
  {
   "cell_type": "code",
   "execution_count": 50,
   "id": "b1fb2f0d-a24e-4f89-b1f0-caad0026bbf8",
   "metadata": {},
   "outputs": [],
   "source": [
    "es = Elasticsearch(\"http://localhost:9200\")\n",
    "    \n",
    "def retrieve_documents(query, index_name=\"course-questions\", max_results=5):\n",
    "    \n",
    "    search_query = {\n",
    "        \"size\": max_results,\n",
    "        \"query\": {\n",
    "            \"bool\": {\n",
    "                \"must\": {\n",
    "                    \"multi_match\": {\n",
    "                        \"query\": query,\n",
    "                        \"fields\": [\"question^3\", \"text\", \"section\"],\n",
    "                        \"type\": \"best_fields\"\n",
    "                    }\n",
    "                },\n",
    "                \"filter\": {\n",
    "                    \"term\": {\n",
    "                        \"course\": \"data-engineering-zoomcamp\"\n",
    "                    }\n",
    "                }\n",
    "            }\n",
    "        }\n",
    "    }\n",
    "    \n",
    "    response = es.search(index=index_name, body=search_query)\n",
    "    \n",
    "    documents = [hit['_source'] for hit in response['hits']['hits']]\n",
    "    \n",
    "    return documents"
   ]
  },
  {
   "cell_type": "code",
   "execution_count": 51,
   "id": "89a95ef6-a509-476d-bf0c-65e6da87db16",
   "metadata": {},
   "outputs": [
    {
     "name": "stdout",
     "output_type": "stream",
     "text": [
      "Section: General course-related questions\n",
      "Question: Course - Can I still join the course after the start date?\n",
      "Answer: Yes, even if you don't register, you're still eligible to su...\n",
      "\n",
      "Section: General course-related questions\n",
      "Question: Course - Can I still join the course after the start date?\n",
      "Answer: Yes, even if you don't register, you're still eligible to su...\n",
      "\n",
      "Section: General course-related questions\n",
      "Question: Course - Can I still join the course after the start date?\n",
      "Answer: Yes, even if you don't register, you're still eligible to su...\n",
      "\n",
      "Section: General course-related questions\n",
      "Question: Course - Can I follow the course after it finishes?\n",
      "Answer: Yes, we will keep all the materials after the course finishe...\n",
      "\n",
      "Section: General course-related questions\n",
      "Question: Course - Can I follow the course after it finishes?\n",
      "Answer: Yes, we will keep all the materials after the course finishe...\n",
      "\n"
     ]
    }
   ],
   "source": [
    "response = retrieve_documents(user_query)\n",
    "\n",
    "for doc in response:\n",
    "    print(f\"Section: {doc['section']}\")\n",
    "    print(f\"Question: {doc['question']}\")\n",
    "    print(f\"Answer: {doc['text'][:60]}...\\n\")"
   ]
  },
  {
   "cell_type": "markdown",
   "id": "546c3d46-7e7b-43c9-a2f0-dc16b1368a5f",
   "metadata": {},
   "source": [
    "## G - GENERATION\n",
    "\n",
    "Now that we have retrieved ourput based on query from database, it is the time generated a prompt from this retrieved result and put it into **LLM**."
   ]
  },
  {
   "cell_type": "markdown",
   "id": "a60fce01-9e38-4877-8ef1-699da24f9a04",
   "metadata": {},
   "source": [
    "### Testing Google Gemini"
   ]
  },
  {
   "cell_type": "code",
   "execution_count": 52,
   "id": "fc8cae3f-f6c5-47c0-afdd-e6c5718d1d6f",
   "metadata": {},
   "outputs": [],
   "source": [
    "import textwrap\n",
    "\n",
    "import google.generativeai as genai\n",
    "\n",
    "import os\n",
    "\n",
    "from IPython.display import display\n",
    "from IPython.display import Markdown"
   ]
  },
  {
   "cell_type": "code",
   "execution_count": 53,
   "id": "01dd16ba-04c8-4a2c-826c-cb89492c4d0d",
   "metadata": {},
   "outputs": [],
   "source": [
    "def to_markdown(text):\n",
    "  text = text.replace('•', '  *')\n",
    "  return Markdown(textwrap.indent(text, '> ', predicate=lambda _: True))"
   ]
  },
  {
   "cell_type": "code",
   "execution_count": 54,
   "id": "2aeffbc9-7086-452d-add3-c461ab59be23",
   "metadata": {},
   "outputs": [],
   "source": [
    "GOOGLE_API_KEY = os.getenv(\"GOOGLE_AI_API_KEY\")\n",
    "\n",
    "genai.configure(api_key=GOOGLE_API_KEY)"
   ]
  },
  {
   "cell_type": "markdown",
   "id": "1d0b807d-f73a-423f-b118-dac4bf563c5a",
   "metadata": {},
   "source": [
    "What version of the model is available:"
   ]
  },
  {
   "cell_type": "code",
   "execution_count": 55,
   "id": "14b2c89b-b6f3-4882-8770-f6ba6194c38b",
   "metadata": {},
   "outputs": [
    {
     "name": "stdout",
     "output_type": "stream",
     "text": [
      "models/gemini-1.0-pro\n",
      "models/gemini-1.0-pro-001\n",
      "models/gemini-1.0-pro-latest\n",
      "models/gemini-1.0-pro-vision-latest\n"
     ]
    },
    {
     "ename": "TypeError",
     "evalue": "Model.__init__() got an unexpected keyword argument 'max_temperature'",
     "output_type": "error",
     "traceback": [
      "\u001b[0;31m---------------------------------------------------------------------------\u001b[0m",
      "\u001b[0;31mTypeError\u001b[0m                                 Traceback (most recent call last)",
      "Cell \u001b[0;32mIn[55], line 3\u001b[0m\n\u001b[1;32m      1\u001b[0m \u001b[38;5;66;03m# print the available model\u001b[39;00m\n\u001b[0;32m----> 3\u001b[0m \u001b[38;5;28;01mfor\u001b[39;00m m \u001b[38;5;129;01min\u001b[39;00m genai\u001b[38;5;241m.\u001b[39mlist_models():\n\u001b[1;32m      4\u001b[0m   \u001b[38;5;28;01mif\u001b[39;00m \u001b[38;5;124m'\u001b[39m\u001b[38;5;124mgenerateContent\u001b[39m\u001b[38;5;124m'\u001b[39m \u001b[38;5;129;01min\u001b[39;00m m\u001b[38;5;241m.\u001b[39msupported_generation_methods:\n\u001b[1;32m      5\u001b[0m     \u001b[38;5;28mprint\u001b[39m(m\u001b[38;5;241m.\u001b[39mname)\n",
      "File \u001b[0;32m~/.local/share/virtualenvs/LLM-QA-Bot-zf41lFMP/lib/python3.10/site-packages/google/generativeai/models.py:206\u001b[0m, in \u001b[0;36mlist_models\u001b[0;34m(page_size, client, request_options)\u001b[0m\n\u001b[1;32m    204\u001b[0m \u001b[38;5;28;01mfor\u001b[39;00m model \u001b[38;5;129;01min\u001b[39;00m client\u001b[38;5;241m.\u001b[39mlist_models(page_size\u001b[38;5;241m=\u001b[39mpage_size, \u001b[38;5;241m*\u001b[39m\u001b[38;5;241m*\u001b[39mrequest_options):\n\u001b[1;32m    205\u001b[0m     model \u001b[38;5;241m=\u001b[39m \u001b[38;5;28mtype\u001b[39m(model)\u001b[38;5;241m.\u001b[39mto_dict(model)\n\u001b[0;32m--> 206\u001b[0m     \u001b[38;5;28;01myield\u001b[39;00m \u001b[43mmodel_types\u001b[49m\u001b[38;5;241;43m.\u001b[39;49m\u001b[43mModel\u001b[49m\u001b[43m(\u001b[49m\u001b[38;5;241;43m*\u001b[39;49m\u001b[38;5;241;43m*\u001b[39;49m\u001b[43mmodel\u001b[49m\u001b[43m)\u001b[49m\n",
      "\u001b[0;31mTypeError\u001b[0m: Model.__init__() got an unexpected keyword argument 'max_temperature'"
     ]
    }
   ],
   "source": [
    "# print the available model\n",
    "\n",
    "for m in genai.list_models():\n",
    "  if 'generateContent' in m.supported_generation_methods:\n",
    "    print(m.name)"
   ]
  },
  {
   "cell_type": "code",
   "execution_count": 56,
   "id": "4e6f93c0-acd7-45a3-83b4-aa800c8c95c4",
   "metadata": {},
   "outputs": [],
   "source": [
    "# using the text model\n",
    "model = genai.GenerativeModel('gemini-pro')"
   ]
  },
  {
   "cell_type": "code",
   "execution_count": 57,
   "id": "857ff549-16ab-4805-b2e3-65887b26509b",
   "metadata": {},
   "outputs": [
    {
     "name": "stdout",
     "output_type": "stream",
     "text": [
      "CPU times: user 37.7 ms, sys: 7.39 ms, total: 45.1 ms\n",
      "Wall time: 7.24 s\n"
     ]
    },
    {
     "data": {
      "text/markdown": [
       "> The meaning of life is a deeply personal and subjective question that has been pondered by philosophers, theologians, and individuals throughout history. There is no one definitive answer, and different people may find meaning in different aspects of their lives. Some common themes that have been suggested include:\n",
       "> \n",
       "> * **Purpose:** Many people find meaning in a sense of purpose or calling. This could involve a career, a hobby, or a personal goal that they feel passionate about.\n",
       "> * **Relationships:** Strong relationships with family, friends, and loved ones can provide a sense of meaning and fulfillment.\n",
       "> * **Experiences:** Some people find meaning in simply living life to the fullest and embracing new experiences. This could involve travel, adventure, or trying new things.\n",
       "> * **Contribution:** Making a positive impact on the world can give people a sense of meaning. This could involve volunteering, helping others, or creating something meaningful.\n",
       "> * **Growth and learning:** Personal growth and learning can provide a sense of meaning as people develop their skills and knowledge.\n",
       "> * **Values:** Living in accordance with one's values can provide a sense of meaning and direction. This could involve being kind, honest, or compassionate.\n",
       "> * **Spirituality:** For some people, spirituality provides a sense of meaning and purpose. This could involve following a particular religion, practicing meditation, or connecting with nature.\n",
       "> \n",
       "> Ultimately, the meaning of life is what each individual makes it. It is a personal journey of discovery and reflection that can lead to a fulfilling and meaningful existence."
      ],
      "text/plain": [
       "<IPython.core.display.Markdown object>"
      ]
     },
     "execution_count": 57,
     "metadata": {},
     "output_type": "execute_result"
    }
   ],
   "source": [
    "%%time\n",
    "response = model.generate_content(\"What is the meaning of life?\")\n",
    "\n",
    "to_markdown(response.text)"
   ]
  },
  {
   "cell_type": "markdown",
   "id": "bfe39d04-b033-4863-86f4-b97f07e9898e",
   "metadata": {},
   "source": [
    "**Retrieve Documents from `elasticsearch`**"
   ]
  },
  {
   "cell_type": "code",
   "execution_count": 63,
   "id": "911f86fc-a960-4b1e-a95d-dbdedf28e9e6",
   "metadata": {},
   "outputs": [
    {
     "name": "stdout",
     "output_type": "stream",
     "text": [
      "Section: General course-related questions\n",
      "Question: Course - Can I still join the course after the start date?\n",
      "Answer: Yes, even if you don't register, you're still eligible to submit the homeworks.\n",
      "Be aware, however, that there will be deadlines for turning in the final projects. So don't leave everything for the last minute.\n",
      "\n",
      "Section: General course-related questions\n",
      "Question: Course - Can I still join the course after the start date?\n",
      "Answer: Yes, even if you don't register, you're still eligible to submit the homeworks.\n",
      "Be aware, however, that there will be deadlines for turning in the final projects. So don't leave everything for the last minute.\n",
      "\n",
      "Section: General course-related questions\n",
      "Question: Course - Can I still join the course after the start date?\n",
      "Answer: Yes, even if you don't register, you're still eligible to submit the homeworks.\n",
      "Be aware, however, that there will be deadlines for turning in the final projects. So don't leave everything for the last minute.\n",
      "\n",
      "Section: General course-related questions\n",
      "Question: Course - Can I follow the course after it finishes?\n",
      "Answer: Yes, we will keep all the materials after the course finishes, so you can follow the course at your own pace after it finishes.\n",
      "You can also continue looking at the homeworks and continue preparing for the next cohort. I guess you can also start working on your final capstone project.\n",
      "\n",
      "Section: General course-related questions\n",
      "Question: Course - Can I follow the course after it finishes?\n",
      "Answer: Yes, we will keep all the materials after the course finishes, so you can follow the course at your own pace after it finishes.\n",
      "You can also continue looking at the homeworks and continue preparing for the next cohort. I guess you can also start working on your final capstone project.\n"
     ]
    }
   ],
   "source": [
    "context_template = \"\"\"\n",
    "Section: {section}\n",
    "Question: {question}\n",
    "Answer: {text}\n",
    "\"\"\".strip()\n",
    "\n",
    "context_docs = retrieve_documents(user_query)\n",
    "\n",
    "context_result = \"\"\n",
    "\n",
    "for doc in context_docs:\n",
    "    doc_str = context_template.format(**doc)\n",
    "    context_result += (\"\\n\\n\" + doc_str)\n",
    "\n",
    "context = context_result.strip()\n",
    "print(context)"
   ]
  },
  {
   "cell_type": "markdown",
   "id": "62466bdf-bb74-4284-b54b-5dede9cb6216",
   "metadata": {},
   "source": [
    "### Building the Prompt\n",
    "\n",
    "* first we put all the documents together in a string."
   ]
  },
  {
   "cell_type": "code",
   "execution_count": 64,
   "id": "5afe7df4-27c2-4f6f-80e7-e658b955a7e0",
   "metadata": {},
   "outputs": [
    {
     "data": {
      "text/plain": [
       "\"You're a course teaching assistant.\\nAnswer the user QUESTION based on CONTEXT - the documents retrieved from our FAQ database.\\nDon't use other information outside of the provided CONTEXT.  \\n\\nQUESTION: How do I join the course after it has started?\\n\\nCONTEXT:\\n\\nSection: General course-related questions\\nQuestion: Course - Can I still join the course after the start date?\\nAnswer: Yes, even if you don't register, you're still eligible to submit the homeworks.\\nBe aware, however, that there will be deadlines for turning in the final projects. So don't leave everything for the last minute.\\n\\nSection: General course-related questions\\nQuestion: Course - Can I still join the course after the start date?\\nAnswer: Yes, even if you don't register, you're still eligible to submit the homeworks.\\nBe aware, however, that there will be deadlines for turning in the final projects. So don't leave everything for the last minute.\\n\\nSection: General course-related questions\\nQuestion: Course - Can I still join the course after the start date?\\nAnswer: Yes, even if you don't register, you're still eligible to submit the homeworks.\\nBe aware, however, that there will be deadlines for turning in the final projects. So don't leave everything for the last minute.\\n\\nSection: General course-related questions\\nQuestion: Course - Can I follow the course after it finishes?\\nAnswer: Yes, we will keep all the materials after the course finishes, so you can follow the course at your own pace after it finishes.\\nYou can also continue looking at the homeworks and continue preparing for the next cohort. I guess you can also start working on your final capstone project.\\n\\nSection: General course-related questions\\nQuestion: Course - Can I follow the course after it finishes?\\nAnswer: Yes, we will keep all the materials after the course finishes, so you can follow the course at your own pace after it finishes.\\nYou can also continue looking at the homeworks and continue preparing for the next cohort. I guess you can also start working on your final capstone project.\""
      ]
     },
     "execution_count": 64,
     "metadata": {},
     "output_type": "execute_result"
    }
   ],
   "source": [
    "prompt_template = \"\"\"\n",
    "You're a course teaching assistant.\n",
    "Answer the user QUESTION based on CONTEXT - the documents retrieved from our FAQ database.\n",
    "Don't use other information outside of the provided CONTEXT.  \n",
    "\n",
    "QUESTION: {user_question}\n",
    "\n",
    "CONTEXT:\n",
    "\n",
    "{context}\n",
    "\"\"\".strip()\n",
    "\n",
    "prompt_template.format(\n",
    "        user_question=user_query,\n",
    "        context=context # context from the previous result\n",
    "    )\n",
    "    "
   ]
  },
  {
   "cell_type": "markdown",
   "id": "3f6a53b8-4ff4-481a-a8bc-2260af315265",
   "metadata": {},
   "source": [
    "**Puting all together as a function**"
   ]
  },
  {
   "cell_type": "code",
   "execution_count": null,
   "id": "205ec79a-9346-4176-ae1c-553f8db8aa3c",
   "metadata": {},
   "outputs": [],
   "source": [
    "context_template = \"\"\"\n",
    "Section: {section}\n",
    "Question: {question}\n",
    "Answer: {text}\n",
    "\"\"\".strip()\n",
    "\n",
    "prompt_template = \"\"\"\n",
    "You're a course teaching assistant.\n",
    "Answer the user QUESTION based on CONTEXT - the documents retrieved from our FAQ database.\n",
    "Don't use other information outside of the provided CONTEXT.  \n",
    "\n",
    "QUESTION: {user_question}\n",
    "\n",
    "CONTEXT:\n",
    "\n",
    "{context}\n",
    "\"\"\".strip()\n",
    "\n",
    "\n",
    "def build_context(documents):\n",
    "    context_result = \"\"\n",
    "    \n",
    "    for doc in documents:\n",
    "        doc_str = context_template.format(**doc)\n",
    "        context_result += (\"\\n\\n\" + doc_str)\n",
    "    \n",
    "    return context_result.strip()\n",
    "\n",
    "\n",
    "def build_prompt(user_question, documents):\n",
    "    context = build_context(documents)\n",
    "    prompt = prompt_template.format(\n",
    "        user_question=user_question,\n",
    "        context=context\n",
    "    )\n",
    "    return prompt\n",
    "\n",
    "def ask_gemini(prompt, model=\"gemini-pro\"):\n",
    "    model = genai.GenerativeModel(model)\n",
    "    response = model.generate_content(prompt)\n",
    "    answer = to_markdown(response.text)\n",
    "    return answer\n",
    "\n",
    "def qa_bot(user_question):\n",
    "    context_docs = retrieve_documents(user_question)\n",
    "    prompt = build_prompt(user_question, context_docs)\n",
    "    answer = ask_openai(prompt)\n",
    "    return answer"
   ]
  },
  {
   "cell_type": "code",
   "execution_count": 61,
   "id": "061a2556-f3fe-4f92-a54b-0012d9e22701",
   "metadata": {},
   "outputs": [
    {
     "data": {
      "text/plain": [
       "'Section: {section}\\nQuestion: {question}\\nAnswer: {text}'"
      ]
     },
     "execution_count": 61,
     "metadata": {},
     "output_type": "execute_result"
    }
   ],
   "source": [
    "context_template"
   ]
  },
  {
   "cell_type": "code",
   "execution_count": null,
   "id": "f8c58739-02d5-4e83-8da4-f62c90eb9fe7",
   "metadata": {},
   "outputs": [],
   "source": []
  }
 ],
 "metadata": {
  "kernelspec": {
   "display_name": "Python 3 (ipykernel)",
   "language": "python",
   "name": "python3"
  },
  "language_info": {
   "codemirror_mode": {
    "name": "ipython",
    "version": 3
   },
   "file_extension": ".py",
   "mimetype": "text/x-python",
   "name": "python",
   "nbconvert_exporter": "python",
   "pygments_lexer": "ipython3",
   "version": "3.10.12"
  }
 },
 "nbformat": 4,
 "nbformat_minor": 5
}
